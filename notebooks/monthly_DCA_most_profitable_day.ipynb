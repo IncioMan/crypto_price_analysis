{
 "cells": [
  {
   "cell_type": "code",
   "execution_count": 1,
   "metadata": {},
   "outputs": [],
   "source": [
    "import pandas as pd\n",
    "import matplotlib.pyplot as plt"
   ]
  },
  {
   "cell_type": "code",
   "execution_count": 2,
   "metadata": {},
   "outputs": [],
   "source": [
    "plt.rcParams[\"figure.figsize\"] = (15, 5)"
   ]
  },
  {
   "cell_type": "markdown",
   "metadata": {},
   "source": [
    "**Import and prepare data**\n",
    "\n",
    "Add extra columns"
   ]
  },
  {
   "cell_type": "code",
   "execution_count": 3,
   "metadata": {},
   "outputs": [],
   "source": [
    "def prepare_data(coin):\n",
    "    df = pd.read_csv(f'../data/coin_{coin}.csv', index_col=0).reset_index()\n",
    "    df.Date = pd.to_datetime(df.Date)\n",
    "    df['dayofweek'] = df.Date.dt.dayofweek\n",
    "    df['dayofmonth'] = df.Date.dt.day\n",
    "    df['year_month'] = df.Date.dt.strftime(\"%Y-%m\")\n",
    "    df['avg_daily_price']= (df.High + df.Low) / 2\n",
    "    return df"
   ]
  },
  {
   "cell_type": "markdown",
   "metadata": {},
   "source": [
    "**Calculate profit**\n",
    "\n",
    "Given the provided dataframe for a specific coin, and the configuration for the frequency of the DCA plan, calculate the profit in percantage accumulated over the specified time window."
   ]
  },
  {
   "cell_type": "code",
   "execution_count": 4,
   "metadata": {},
   "outputs": [],
   "source": [
    "def calculate_profit_dca(df, frequency, purchase_year_month = '2018-01',\\\n",
    "                        purchase_day_of_week = 0, purchase_day_of_month = [0]):\n",
    "    purchase_usd = 10\n",
    "    if frequency == 'monthly':\n",
    "        freq_cond = (df.dayofmonth.isin(purchase_day_of_month))\n",
    "        if(31 in purchase_day_of_month):\n",
    "            # Take last day of months with 30 days\n",
    "            freq_cond = freq_cond | (df.Date.dt.month.isin([11,4,6,9]) & (df.dayofmonth == 30))\n",
    "        if((31 in purchase_day_of_month) or (30 in purchase_day_of_month)):\n",
    "            # Take last day of February (29th in case of leap year)\n",
    "            freq_cond = freq_cond |\\\n",
    "                        (df.Date.dt.year.isin([2008, 2012, 2016, 2020, 2024, 2028, 2032, 2036, 2040, 2044]) &\\\n",
    "                         df.Date.dt.month.isin([2]) & (df.dayofmonth == 29))\n",
    "        if((31 in purchase_day_of_month) or (30 in purchase_day_of_month) or (29 in purchase_day_of_month)):     \n",
    "            # In case 29 is the day, use 28 for February in non leap year\n",
    "            freq_cond = freq_cond |\\\n",
    "                        ((~df.Date.dt.year.isin([2008, 2012, 2016, 2020, 2024, 2028, 2032, 2036, 2040, 2044])) &\\\n",
    "                         df.Date.dt.month.isin([2]) & (df.dayofmonth == 28))          \n",
    "    if frequency == 'weekly':\n",
    "        freq_cond = (df.dayofweek == purchase_day_of_week)\n",
    "\n",
    "    purchase = df[(df.year_month >= purchase_year_month) & freq_cond]\n",
    "    purchased_amount = (purchase_usd/purchase.High).sum()\n",
    "    investment_amount = purchase_usd * len(purchase)\n",
    "    investment_value = df[-1:].High * purchased_amount\n",
    "    return (investment_value / investment_amount) * 100"
   ]
  },
  {
   "cell_type": "markdown",
   "metadata": {},
   "source": [
    "The considered coins"
   ]
  },
  {
   "cell_type": "code",
   "execution_count": 5,
   "metadata": {},
   "outputs": [],
   "source": [
    "coins = ['Bitcoin', 'Ethereum', 'Cardano']"
   ]
  },
  {
   "cell_type": "markdown",
   "metadata": {},
   "source": [
    "Calculate profits for each day of the month, given a monthly DCA"
   ]
  },
  {
   "cell_type": "code",
   "execution_count": 6,
   "metadata": {},
   "outputs": [
    {
     "name": "stdout",
     "output_type": "stream",
     "text": [
      "Calculating profit for coin Bitcoin. Sample size 2991...\n",
      "Calculating profit for coin Ethereum. Sample size 2160...\n",
      "Calculating profit for coin Cardano. Sample size 1374...\n"
     ]
    }
   ],
   "source": [
    "day_of_month_profit = {'day': []}\n",
    "for i in range(1,32):\n",
    "    day_of_month_profit['day'].append(i)\n",
    "\n",
    "for coin in coins:\n",
    "    df = prepare_data(coin)\n",
    "    day_of_month_profit[coin] = []\n",
    "    print(f\"Calculating profit for coin {coin}. Sample size {len(df)}...\")\n",
    "    for i in range(1,32):    \n",
    "        day_of_month_profit[coin].append(calculate_profit_dca(df, 'monthly', purchase_day_of_month=[i]).iloc[0])"
   ]
  },
  {
   "cell_type": "code",
   "execution_count": 7,
   "metadata": {},
   "outputs": [],
   "source": [
    "profit_df = pd.DataFrame(day_of_month_profit).set_index('day')"
   ]
  },
  {
   "cell_type": "markdown",
   "metadata": {},
   "source": [
    "Let's plot the values"
   ]
  },
  {
   "cell_type": "code",
   "execution_count": 8,
   "metadata": {},
   "outputs": [
    {
     "data": {
      "text/plain": [
       "<AxesSubplot:xlabel='day'>"
      ]
     },
     "execution_count": 8,
     "metadata": {},
     "output_type": "execute_result"
    },
    {
     "data": {
      "image/png": "[encoded data removed]",
      "text/plain": [
       "<Figure size 1080x360 with 1 Axes>"
      ]
     },
     "metadata": {
      "needs_background": "light"
     },
     "output_type": "display_data"
    }
   ],
   "source": [
    "(profit_df).plot(kind='bar')"
   ]
  },
  {
   "cell_type": "markdown",
   "metadata": {},
   "source": [
    "Given Cardano has a bigger scale, it is better to standardize the values"
   ]
  },
  {
   "cell_type": "code",
   "execution_count": 9,
   "metadata": {},
   "outputs": [
    {
     "data": {
      "text/plain": [
       "<AxesSubplot:xlabel='day', ylabel='z-score profit'>"
      ]
     },
     "execution_count": 9,
     "metadata": {},
     "output_type": "execute_result"
    },
    {
     "data": {
      "image/png": "[encoded data removed]",
      "text/plain": [
       "<Figure size 1080x360 with 1 Axes>"
      ]
     },
     "metadata": {
      "needs_background": "light"
     },
     "output_type": "display_data"
    }
   ],
   "source": [
    "((profit_df - profit_df.mean())/profit_df.std()).plot(kind='bar', ylabel='z-score profit')"
   ]
  },
  {
   "cell_type": "markdown",
   "metadata": {},
   "source": [
    "The plot is now standardized, but Polkadot presents wide swings. It is after all not correct to give all coins the same importance. Some coins have a smaller sample size, and therefore more variance. Furthermore, some coins represent a larger part of the portfolio and we are therefore interested in giving these priority. We exclude Polkadot because it has too few observations. We use the rank for the days and maximise the sum.\n",
    "We give each coin a weight and find the maximum."
   ]
  },
  {
   "cell_type": "code",
   "execution_count": 10,
   "metadata": {},
   "outputs": [
    {
     "data": {
      "text/plain": [
       "<AxesSubplot:xlabel='day', ylabel='z-score profit'>"
      ]
     },
     "execution_count": 10,
     "metadata": {},
     "output_type": "execute_result"
    },
    {
     "data": {
      "image/png": "[encoded data removed]",
      "text/plain": [
       "<Figure size 1080x360 with 1 Axes>"
      ]
     },
     "metadata": {
      "needs_background": "light"
     },
     "output_type": "display_data"
    }
   ],
   "source": [
    "plt = ((profit_df - profit_df.mean())/profit_df.std()).plot(kind='bar', ylabel='z-score profit')\n",
    "plt.get_figure().savefig(\"../images/monthly.jpeg\", bbox_inches = 'tight',\n",
    "    pad_inches = 0.2)\n",
    "plt"
   ]
  },
  {
   "cell_type": "code",
   "execution_count": 11,
   "metadata": {},
   "outputs": [],
   "source": [
    "coin_weights = {'Bitcoin':50, 'Ethereum': 40, 'Cardano':10}\n",
    "def weightedValue(row):\n",
    "    val = 0\n",
    "    for coin, weight in coin_weights.items():\n",
    "        val = val + row[coin] * weight\n",
    "    return val"
   ]
  },
  {
   "cell_type": "code",
   "execution_count": 12,
   "metadata": {},
   "outputs": [
    {
     "data": {
      "text/plain": [
       "16"
      ]
     },
     "execution_count": 12,
     "metadata": {},
     "output_type": "execute_result"
    }
   ],
   "source": [
    "profit_df.rank()\\\n",
    "         .transpose()\\\n",
    "         .apply(weightedValue).idxmax()"
   ]
  },
  {
   "cell_type": "markdown",
   "metadata": {},
   "source": [
    "The day that maximises the profits is 16"
   ]
  }
 ],
 "metadata": {
  "kernelspec": {
   "display_name": "Python 3",
   "language": "python",
   "name": "python3"
  },
  "language_info": {
   "codemirror_mode": {
    "name": "ipython",
    "version": 3
   },
   "file_extension": ".py",
   "mimetype": "text/x-python",
   "name": "python",
   "nbconvert_exporter": "python",
   "pygments_lexer": "ipython3",
   "version": "3.8.2"
  }
 },
 "nbformat": 4,
 "nbformat_minor": 4
}
