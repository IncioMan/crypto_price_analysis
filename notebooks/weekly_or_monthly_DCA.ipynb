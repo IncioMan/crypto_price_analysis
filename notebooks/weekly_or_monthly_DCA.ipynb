{
 "cells": [
  {
   "cell_type": "code",
   "execution_count": 111,
   "metadata": {},
   "outputs": [],
   "source": [
    "import pandas as pd"
   ]
  },
  {
   "cell_type": "markdown",
   "metadata": {},
   "source": [
    "**Import and prepare the data**"
   ]
  },
  {
   "cell_type": "code",
   "execution_count": 112,
   "metadata": {},
   "outputs": [],
   "source": [
    "def prepare_data(coin):\n",
    "    df = pd.read_csv(f'../../crypto_prices/coin_{coin}.csv', index_col=0).reset_index()\n",
    "    df.Date = pd.to_datetime(df.Date)\n",
    "    df['dayofweek'] = df.Date.dt.dayofweek\n",
    "    df['dayofmonth'] = df.Date.dt.day\n",
    "    df['year_month'] = df.Date.dt.strftime(\"%Y-%m\")\n",
    "    df['avg_daily_price']= (df.High + df.Low) / 2\n",
    "    return df"
   ]
  },
  {
   "cell_type": "code",
   "execution_count": 113,
   "metadata": {},
   "outputs": [],
   "source": [
    "def calculate_profit_dca(df, frequency, purchase_year_month = '2018-01',\\\n",
    "                        purchase_day_of_week = 0, purchase_day_of_month = [0]):\n",
    "    purchase_usd = 10\n",
    "    if frequency == 'monthly':\n",
    "        freq_cond = (df.dayofmonth.isin(purchase_day_of_month))\n",
    "    if frequency == 'weekly':\n",
    "        freq_cond = (df.dayofweek == purchase_day_of_week)\n",
    "\n",
    "    purchase = df[(df.year_month >= purchase_year_month) & freq_cond]\n",
    "    purchased_amount = (purchase_usd/purchase.avg_daily_price).sum()\n",
    "    investment_amount = purchase_usd * len(purchase)\n",
    "    investment_value = df[-1:].avg_daily_price * purchased_amount\n",
    "    return (investment_value / investment_amount)"
   ]
  },
  {
   "cell_type": "code",
   "execution_count": 114,
   "metadata": {},
   "outputs": [],
   "source": [
    "dfs = {}\n",
    "coins = ['Bitcoin', 'Ethereum']"
   ]
  },
  {
   "cell_type": "markdown",
   "metadata": {},
   "source": [
    "**Monthly**"
   ]
  },
  {
   "cell_type": "code",
   "execution_count": 115,
   "metadata": {},
   "outputs": [
    {
     "name": "stdout",
     "output_type": "stream",
     "text": [
      "Calculating profit for coin Bitcoin...\n",
      "Calculating profit for coin Ethereum...\n"
     ]
    }
   ],
   "source": [
    "days= []\n",
    "monthly_profit = {}\n",
    "for i in range(1,32):\n",
    "    days.append(i)\n",
    "\n",
    "for coin in coins:\n",
    "    df = prepare_data(coin)\n",
    "    monthly_profit[coin] = []\n",
    "    print(f\"Calculating profit for coin {coin}...\")\n",
    "    for i in range(1,32):    \n",
    "        monthly_profit[coin].append(calculate_profit_dca(df, 'monthly', purchase_day_of_month=[i]).iloc[0])"
   ]
  },
  {
   "cell_type": "code",
   "execution_count": 116,
   "metadata": {},
   "outputs": [
    {
     "data": {
      "text/html": [
       "<div>\n",
       "<style scoped>\n",
       "    .dataframe tbody tr th:only-of-type {\n",
       "        vertical-align: middle;\n",
       "    }\n",
       "\n",
       "    .dataframe tbody tr th {\n",
       "        vertical-align: top;\n",
       "    }\n",
       "\n",
       "    .dataframe thead th {\n",
       "        text-align: right;\n",
       "    }\n",
       "</style>\n",
       "<table border=\"1\" class=\"dataframe\">\n",
       "  <thead>\n",
       "    <tr style=\"text-align: right;\">\n",
       "      <th></th>\n",
       "      <th>Bitcoin</th>\n",
       "      <th>Ethereum</th>\n",
       "    </tr>\n",
       "    <tr>\n",
       "      <th>days</th>\n",
       "      <th></th>\n",
       "      <th></th>\n",
       "    </tr>\n",
       "  </thead>\n",
       "  <tbody>\n",
       "    <tr>\n",
       "      <th>1</th>\n",
       "      <td>4.037992</td>\n",
       "      <td>8.587175</td>\n",
       "    </tr>\n",
       "    <tr>\n",
       "      <th>2</th>\n",
       "      <td>3.999434</td>\n",
       "      <td>8.473401</td>\n",
       "    </tr>\n",
       "    <tr>\n",
       "      <th>3</th>\n",
       "      <td>3.958840</td>\n",
       "      <td>8.426079</td>\n",
       "    </tr>\n",
       "    <tr>\n",
       "      <th>4</th>\n",
       "      <td>3.984029</td>\n",
       "      <td>8.464631</td>\n",
       "    </tr>\n",
       "    <tr>\n",
       "      <th>5</th>\n",
       "      <td>3.989482</td>\n",
       "      <td>8.458709</td>\n",
       "    </tr>\n",
       "  </tbody>\n",
       "</table>\n",
       "</div>"
      ],
      "text/plain": [
       "       Bitcoin  Ethereum\n",
       "days                    \n",
       "1     4.037992  8.587175\n",
       "2     3.999434  8.473401\n",
       "3     3.958840  8.426079\n",
       "4     3.984029  8.464631\n",
       "5     3.989482  8.458709"
      ]
     },
     "execution_count": 116,
     "metadata": {},
     "output_type": "execute_result"
    }
   ],
   "source": [
    "monthly_profit['days']=days\n",
    "monthly_df = pd.DataFrame.from_dict(monthly_profit).set_index('days')\n",
    "dfs['monthly'] = monthly_df\n",
    "monthly_df.head()"
   ]
  },
  {
   "cell_type": "markdown",
   "metadata": {},
   "source": [
    "**Weekly**"
   ]
  },
  {
   "cell_type": "code",
   "execution_count": 117,
   "metadata": {},
   "outputs": [
    {
     "name": "stdout",
     "output_type": "stream",
     "text": [
      "Calculating profit for coin Bitcoin...\n",
      "Calculating profit for coin Ethereum...\n"
     ]
    }
   ],
   "source": [
    "days= []\n",
    "weekly_profit = {}\n",
    "for i in range(0,7):\n",
    "    days.append(i)\n",
    "\n",
    "for coin in coins:\n",
    "    df = prepare_data(coin)\n",
    "    weekly_profit[coin] = []\n",
    "    print(f\"Calculating profit for coin {coin}...\")\n",
    "    for i in range(0,7):    \n",
    "        weekly_profit[coin].append(calculate_profit_dca(df, 'weekly', purchase_day_of_week=i).iloc[0])"
   ]
  },
  {
   "cell_type": "code",
   "execution_count": 118,
   "metadata": {},
   "outputs": [
    {
     "data": {
      "text/html": [
       "<div>\n",
       "<style scoped>\n",
       "    .dataframe tbody tr th:only-of-type {\n",
       "        vertical-align: middle;\n",
       "    }\n",
       "\n",
       "    .dataframe tbody tr th {\n",
       "        vertical-align: top;\n",
       "    }\n",
       "\n",
       "    .dataframe thead th {\n",
       "        text-align: right;\n",
       "    }\n",
       "</style>\n",
       "<table border=\"1\" class=\"dataframe\">\n",
       "  <thead>\n",
       "    <tr style=\"text-align: right;\">\n",
       "      <th></th>\n",
       "      <th>Bitcoin</th>\n",
       "      <th>Ethereum</th>\n",
       "    </tr>\n",
       "    <tr>\n",
       "      <th>days</th>\n",
       "      <th></th>\n",
       "      <th></th>\n",
       "    </tr>\n",
       "  </thead>\n",
       "  <tbody>\n",
       "    <tr>\n",
       "      <th>0</th>\n",
       "      <td>4.063660</td>\n",
       "      <td>8.676294</td>\n",
       "    </tr>\n",
       "    <tr>\n",
       "      <th>1</th>\n",
       "      <td>4.060661</td>\n",
       "      <td>8.687917</td>\n",
       "    </tr>\n",
       "    <tr>\n",
       "      <th>2</th>\n",
       "      <td>4.067146</td>\n",
       "      <td>8.719436</td>\n",
       "    </tr>\n",
       "    <tr>\n",
       "      <th>3</th>\n",
       "      <td>4.075425</td>\n",
       "      <td>8.754547</td>\n",
       "    </tr>\n",
       "    <tr>\n",
       "      <th>4</th>\n",
       "      <td>4.092533</td>\n",
       "      <td>8.792059</td>\n",
       "    </tr>\n",
       "  </tbody>\n",
       "</table>\n",
       "</div>"
      ],
      "text/plain": [
       "       Bitcoin  Ethereum\n",
       "days                    \n",
       "0     4.063660  8.676294\n",
       "1     4.060661  8.687917\n",
       "2     4.067146  8.719436\n",
       "3     4.075425  8.754547\n",
       "4     4.092533  8.792059"
      ]
     },
     "execution_count": 118,
     "metadata": {},
     "output_type": "execute_result"
    }
   ],
   "source": [
    "weekly_profit['days']=days\n",
    "weekly_df = pd.DataFrame.from_dict(weekly_profit).set_index('days')\n",
    "dfs['weekly'] = weekly_df\n",
    "weekly_df.head()"
   ]
  },
  {
   "cell_type": "markdown",
   "metadata": {},
   "source": [
    "**Bi-weekly**"
   ]
  },
  {
   "cell_type": "code",
   "execution_count": 119,
   "metadata": {},
   "outputs": [
    {
     "name": "stdout",
     "output_type": "stream",
     "text": [
      "Calculating profit for coin Bitcoin...\n",
      "Calculating profit for coin Ethereum...\n"
     ]
    }
   ],
   "source": [
    "days= []\n",
    "biweekly_profit = {}\n",
    "for i in range(1,32):\n",
    "    for j in range(i+1,32):\n",
    "        days.append(f\"{i}-{j}\")\n",
    "\n",
    "for coin in coins:\n",
    "    df = prepare_data(coin)\n",
    "    biweekly_profit[coin] = []\n",
    "    print(f\"Calculating profit for coin {coin}...\")\n",
    "    for i in range(1,32):\n",
    "        for j in range(i+1,32):    \n",
    "            biweekly_profit[coin].append(calculate_profit_dca(df, 'weekly', purchase_day_of_month=[i,j]).iloc[0])"
   ]
  },
  {
   "cell_type": "code",
   "execution_count": 120,
   "metadata": {},
   "outputs": [
    {
     "data": {
      "text/html": [
       "<div>\n",
       "<style scoped>\n",
       "    .dataframe tbody tr th:only-of-type {\n",
       "        vertical-align: middle;\n",
       "    }\n",
       "\n",
       "    .dataframe tbody tr th {\n",
       "        vertical-align: top;\n",
       "    }\n",
       "\n",
       "    .dataframe thead th {\n",
       "        text-align: right;\n",
       "    }\n",
       "</style>\n",
       "<table border=\"1\" class=\"dataframe\">\n",
       "  <thead>\n",
       "    <tr style=\"text-align: right;\">\n",
       "      <th></th>\n",
       "      <th>Bitcoin</th>\n",
       "      <th>Ethereum</th>\n",
       "    </tr>\n",
       "    <tr>\n",
       "      <th>days</th>\n",
       "      <th></th>\n",
       "      <th></th>\n",
       "    </tr>\n",
       "  </thead>\n",
       "  <tbody>\n",
       "    <tr>\n",
       "      <th>1-2</th>\n",
       "      <td>4.06366</td>\n",
       "      <td>8.676294</td>\n",
       "    </tr>\n",
       "    <tr>\n",
       "      <th>1-3</th>\n",
       "      <td>4.06366</td>\n",
       "      <td>8.676294</td>\n",
       "    </tr>\n",
       "    <tr>\n",
       "      <th>1-4</th>\n",
       "      <td>4.06366</td>\n",
       "      <td>8.676294</td>\n",
       "    </tr>\n",
       "    <tr>\n",
       "      <th>1-5</th>\n",
       "      <td>4.06366</td>\n",
       "      <td>8.676294</td>\n",
       "    </tr>\n",
       "    <tr>\n",
       "      <th>1-6</th>\n",
       "      <td>4.06366</td>\n",
       "      <td>8.676294</td>\n",
       "    </tr>\n",
       "  </tbody>\n",
       "</table>\n",
       "</div>"
      ],
      "text/plain": [
       "      Bitcoin  Ethereum\n",
       "days                   \n",
       "1-2   4.06366  8.676294\n",
       "1-3   4.06366  8.676294\n",
       "1-4   4.06366  8.676294\n",
       "1-5   4.06366  8.676294\n",
       "1-6   4.06366  8.676294"
      ]
     },
     "execution_count": 120,
     "metadata": {},
     "output_type": "execute_result"
    }
   ],
   "source": [
    "biweekly_profit['days']=days\n",
    "biweekly_df = pd.DataFrame.from_dict(biweekly_profit).set_index('days')\n",
    "dfs['biweekly'] = biweekly_df\n",
    "biweekly_df.head()"
   ]
  },
  {
   "cell_type": "code",
   "execution_count": 127,
   "metadata": {},
   "outputs": [],
   "source": [
    "coin_describe_values = {}\n",
    "index = 'weekly'\n",
    "for coin in coins:\n",
    "    describe_values = {}\n",
    "    for index, df in dfs.items():\n",
    "        describe_values[index] = df.describe()[coin].values\n",
    "    coin_describe_values[coin] = describe_values"
   ]
  },
  {
   "cell_type": "code",
   "execution_count": 137,
   "metadata": {},
   "outputs": [],
   "source": [
    "coin_describe_dfs = {}\n",
    "for coin in coins:\n",
    "    coin_describe_dfs[coin] = pd.DataFrame\\\n",
    "                              .from_dict(coin_describe_values[coin], orient='index', columns=df.describe().index)"
   ]
  },
  {
   "cell_type": "code",
   "execution_count": 146,
   "metadata": {},
   "outputs": [
    {
     "data": {
      "text/html": [
       "<div>\n",
       "<style scoped>\n",
       "    .dataframe tbody tr th:only-of-type {\n",
       "        vertical-align: middle;\n",
       "    }\n",
       "\n",
       "    .dataframe tbody tr th {\n",
       "        vertical-align: top;\n",
       "    }\n",
       "\n",
       "    .dataframe thead th {\n",
       "        text-align: right;\n",
       "    }\n",
       "</style>\n",
       "<table border=\"1\" class=\"dataframe\">\n",
       "  <thead>\n",
       "    <tr style=\"text-align: right;\">\n",
       "      <th></th>\n",
       "      <th>monthly</th>\n",
       "      <th>weekly</th>\n",
       "      <th>biweekly</th>\n",
       "    </tr>\n",
       "  </thead>\n",
       "  <tbody>\n",
       "    <tr>\n",
       "      <th>count</th>\n",
       "      <td>31.000000</td>\n",
       "      <td>7.000000</td>\n",
       "      <td>4.650000e+02</td>\n",
       "    </tr>\n",
       "    <tr>\n",
       "      <th>mean</th>\n",
       "      <td>4.072101</td>\n",
       "      <td>4.070960</td>\n",
       "      <td>4.063660e+00</td>\n",
       "    </tr>\n",
       "    <tr>\n",
       "      <th>std</th>\n",
       "      <td>0.055323</td>\n",
       "      <td>0.010633</td>\n",
       "      <td>8.891350e-16</td>\n",
       "    </tr>\n",
       "    <tr>\n",
       "      <th>min</th>\n",
       "      <td>3.958840</td>\n",
       "      <td>4.060661</td>\n",
       "      <td>4.063660e+00</td>\n",
       "    </tr>\n",
       "    <tr>\n",
       "      <th>25%</th>\n",
       "      <td>4.040130</td>\n",
       "      <td>4.065123</td>\n",
       "      <td>4.063660e+00</td>\n",
       "    </tr>\n",
       "    <tr>\n",
       "      <th>50%</th>\n",
       "      <td>4.072303</td>\n",
       "      <td>4.067146</td>\n",
       "      <td>4.063660e+00</td>\n",
       "    </tr>\n",
       "    <tr>\n",
       "      <th>75%</th>\n",
       "      <td>4.114573</td>\n",
       "      <td>4.073069</td>\n",
       "      <td>4.063660e+00</td>\n",
       "    </tr>\n",
       "    <tr>\n",
       "      <th>max</th>\n",
       "      <td>4.157543</td>\n",
       "      <td>4.092533</td>\n",
       "      <td>4.063660e+00</td>\n",
       "    </tr>\n",
       "  </tbody>\n",
       "</table>\n",
       "</div>"
      ],
      "text/plain": [
       "         monthly    weekly      biweekly\n",
       "count  31.000000  7.000000  4.650000e+02\n",
       "mean    4.072101  4.070960  4.063660e+00\n",
       "std     0.055323  0.010633  8.891350e-16\n",
       "min     3.958840  4.060661  4.063660e+00\n",
       "25%     4.040130  4.065123  4.063660e+00\n",
       "50%     4.072303  4.067146  4.063660e+00\n",
       "75%     4.114573  4.073069  4.063660e+00\n",
       "max     4.157543  4.092533  4.063660e+00"
      ]
     },
     "execution_count": 146,
     "metadata": {},
     "output_type": "execute_result"
    }
   ],
   "source": [
    "coin_describe_dfs['Bitcoin'].transpose()"
   ]
  },
  {
   "cell_type": "code",
   "execution_count": 145,
   "metadata": {},
   "outputs": [
    {
     "data": {
      "text/html": [
       "<div>\n",
       "<style scoped>\n",
       "    .dataframe tbody tr th:only-of-type {\n",
       "        vertical-align: middle;\n",
       "    }\n",
       "\n",
       "    .dataframe tbody tr th {\n",
       "        vertical-align: top;\n",
       "    }\n",
       "\n",
       "    .dataframe thead th {\n",
       "        text-align: right;\n",
       "    }\n",
       "</style>\n",
       "<table border=\"1\" class=\"dataframe\">\n",
       "  <thead>\n",
       "    <tr style=\"text-align: right;\">\n",
       "      <th></th>\n",
       "      <th>monthly</th>\n",
       "      <th>weekly</th>\n",
       "      <th>biweekly</th>\n",
       "    </tr>\n",
       "  </thead>\n",
       "  <tbody>\n",
       "    <tr>\n",
       "      <th>count</th>\n",
       "      <td>31.000000</td>\n",
       "      <td>7.000000</td>\n",
       "      <td>4.650000e+02</td>\n",
       "    </tr>\n",
       "    <tr>\n",
       "      <th>mean</th>\n",
       "      <td>8.725376</td>\n",
       "      <td>8.719264</td>\n",
       "      <td>8.676294e+00</td>\n",
       "    </tr>\n",
       "    <tr>\n",
       "      <th>std</th>\n",
       "      <td>0.175149</td>\n",
       "      <td>0.040730</td>\n",
       "      <td>1.778270e-15</td>\n",
       "    </tr>\n",
       "    <tr>\n",
       "      <th>min</th>\n",
       "      <td>8.426079</td>\n",
       "      <td>8.676294</td>\n",
       "      <td>8.676294e+00</td>\n",
       "    </tr>\n",
       "    <tr>\n",
       "      <th>25%</th>\n",
       "      <td>8.580040</td>\n",
       "      <td>8.694342</td>\n",
       "      <td>8.676294e+00</td>\n",
       "    </tr>\n",
       "    <tr>\n",
       "      <th>50%</th>\n",
       "      <td>8.738615</td>\n",
       "      <td>8.703827</td>\n",
       "      <td>8.676294e+00</td>\n",
       "    </tr>\n",
       "    <tr>\n",
       "      <th>75%</th>\n",
       "      <td>8.869161</td>\n",
       "      <td>8.736991</td>\n",
       "      <td>8.676294e+00</td>\n",
       "    </tr>\n",
       "    <tr>\n",
       "      <th>max</th>\n",
       "      <td>9.013523</td>\n",
       "      <td>8.792059</td>\n",
       "      <td>8.676294e+00</td>\n",
       "    </tr>\n",
       "  </tbody>\n",
       "</table>\n",
       "</div>"
      ],
      "text/plain": [
       "         monthly    weekly      biweekly\n",
       "count  31.000000  7.000000  4.650000e+02\n",
       "mean    8.725376  8.719264  8.676294e+00\n",
       "std     0.175149  0.040730  1.778270e-15\n",
       "min     8.426079  8.676294  8.676294e+00\n",
       "25%     8.580040  8.694342  8.676294e+00\n",
       "50%     8.738615  8.703827  8.676294e+00\n",
       "75%     8.869161  8.736991  8.676294e+00\n",
       "max     9.013523  8.792059  8.676294e+00"
      ]
     },
     "execution_count": 145,
     "metadata": {},
     "output_type": "execute_result"
    }
   ],
   "source": [
    "coin_describe_dfs['Ethereum'].transpose()"
   ]
  },
  {
   "cell_type": "markdown",
   "metadata": {},
   "source": [
    "* The montly DAC has provided the highest profits, but presents also the lowest profits.\n",
    "* The biweekly approach shows to provide the less volatile profit over time\n",
    "* The weekly approach has provided slightly higher maximum profit compared to biweekly but with similar minimums\n",
    "\n",
    "We conclude that the best approach for those aiming at maximising the profit should use a monthly approach. As long as the right day in the month is picked to invest, since the risk is to lower the profit if the wrong day is picked. A following analysis will try to identify the best day of month to invest for a specific coin.\n",
    "For a more stable profit, biweekly seems to provide more constant profits, regardless of the days on which the investment is made."
   ]
  },
  {
   "cell_type": "code",
   "execution_count": null,
   "metadata": {},
   "outputs": [],
   "source": []
  }
 ],
 "metadata": {
  "kernelspec": {
   "display_name": "Python 3",
   "language": "python",
   "name": "python3"
  },
  "language_info": {
   "codemirror_mode": {
    "name": "ipython",
    "version": 3
   },
   "file_extension": ".py",
   "mimetype": "text/x-python",
   "name": "python",
   "nbconvert_exporter": "python",
   "pygments_lexer": "ipython3",
   "version": "3.8.2"
  }
 },
 "nbformat": 4,
 "nbformat_minor": 4
}
