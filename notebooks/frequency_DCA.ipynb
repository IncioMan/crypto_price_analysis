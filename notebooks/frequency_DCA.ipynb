{
 "cells": [
  {
   "cell_type": "code",
   "execution_count": 23,
   "metadata": {},
   "outputs": [],
   "source": [
    "import pandas as pd"
   ]
  },
  {
   "cell_type": "markdown",
   "metadata": {},
   "source": [
    "**Import and prepare the data**"
   ]
  },
  {
   "cell_type": "code",
   "execution_count": 24,
   "metadata": {},
   "outputs": [],
   "source": [
    "def prepare_data(coin):\n",
    "    df = pd.read_csv(f'../data/coin_{coin}.csv', index_col=0).reset_index()\n",
    "    df.Date = pd.to_datetime(df.Date)\n",
    "    df['dayofweek'] = df.Date.dt.dayofweek\n",
    "    df['dayofmonth'] = df.Date.dt.day\n",
    "    df['year_month'] = df.Date.dt.strftime(\"%Y-%m\")\n",
    "    df['avg_daily_price']= (df.High + df.Low) / 2\n",
    "    return df"
   ]
  },
  {
   "cell_type": "code",
   "execution_count": 25,
   "metadata": {},
   "outputs": [],
   "source": [
    "def calculate_profit_dca(df, frequency, purchase_year_month = '2018-01',\\\n",
    "                        purchase_day_of_week = 0, purchase_day_of_month = [0]):\n",
    "    purchase_usd = 10\n",
    "    if frequency == 'monthly':\n",
    "        freq_cond = (df.dayofmonth.isin(purchase_day_of_month))\n",
    "    if frequency == 'weekly':\n",
    "        freq_cond = (df.dayofweek == purchase_day_of_week)\n",
    "\n",
    "    purchase = df[(df.year_month >= purchase_year_month) & freq_cond]\n",
    "    purchased_amount = (purchase_usd/purchase.High).sum()\n",
    "    investment_amount = purchase_usd * len(purchase)\n",
    "    investment_value = df[-1:].High * purchased_amount\n",
    "    return (investment_value / investment_amount)"
   ]
  },
  {
   "cell_type": "code",
   "execution_count": 26,
   "metadata": {},
   "outputs": [],
   "source": [
    "dfs = {}\n",
    "coins = ['Bitcoin', 'Ethereum']"
   ]
  },
  {
   "cell_type": "markdown",
   "metadata": {},
   "source": [
    "**Monthly**"
   ]
  },
  {
   "cell_type": "code",
   "execution_count": 27,
   "metadata": {},
   "outputs": [
    {
     "name": "stdout",
     "output_type": "stream",
     "text": [
      "Calculating profit for coin Bitcoin...\n",
      "Calculating profit for coin Ethereum...\n"
     ]
    }
   ],
   "source": [
    "days= []\n",
    "monthly_profit = {}\n",
    "for i in range(1,32):\n",
    "    days.append(i)\n",
    "\n",
    "for coin in coins:\n",
    "    df = prepare_data(coin)\n",
    "    monthly_profit[coin] = []\n",
    "    print(f\"Calculating profit for coin {coin}...\")\n",
    "    for i in range(1,32):    \n",
    "        monthly_profit[coin].append(calculate_profit_dca(df, 'monthly', purchase_day_of_month=[i]).iloc[0])"
   ]
  },
  {
   "cell_type": "code",
   "execution_count": 28,
   "metadata": {},
   "outputs": [
    {
     "data": {
      "text/html": [
       "<div>\n",
       "<style scoped>\n",
       "    .dataframe tbody tr th:only-of-type {\n",
       "        vertical-align: middle;\n",
       "    }\n",
       "\n",
       "    .dataframe tbody tr th {\n",
       "        vertical-align: top;\n",
       "    }\n",
       "\n",
       "    .dataframe thead th {\n",
       "        text-align: right;\n",
       "    }\n",
       "</style>\n",
       "<table border=\"1\" class=\"dataframe\">\n",
       "  <thead>\n",
       "    <tr style=\"text-align: right;\">\n",
       "      <th></th>\n",
       "      <th>Bitcoin</th>\n",
       "      <th>Ethereum</th>\n",
       "    </tr>\n",
       "    <tr>\n",
       "      <th>days</th>\n",
       "      <th></th>\n",
       "      <th></th>\n",
       "    </tr>\n",
       "  </thead>\n",
       "  <tbody>\n",
       "    <tr>\n",
       "      <th>1</th>\n",
       "      <td>4.043401</td>\n",
       "      <td>8.670210</td>\n",
       "    </tr>\n",
       "    <tr>\n",
       "      <th>2</th>\n",
       "      <td>3.992209</td>\n",
       "      <td>8.522013</td>\n",
       "    </tr>\n",
       "    <tr>\n",
       "      <th>3</th>\n",
       "      <td>3.956897</td>\n",
       "      <td>8.473842</td>\n",
       "    </tr>\n",
       "    <tr>\n",
       "      <th>4</th>\n",
       "      <td>3.987841</td>\n",
       "      <td>8.543198</td>\n",
       "    </tr>\n",
       "    <tr>\n",
       "      <th>5</th>\n",
       "      <td>3.992413</td>\n",
       "      <td>8.512712</td>\n",
       "    </tr>\n",
       "  </tbody>\n",
       "</table>\n",
       "</div>"
      ],
      "text/plain": [
       "       Bitcoin  Ethereum\n",
       "days                    \n",
       "1     4.043401  8.670210\n",
       "2     3.992209  8.522013\n",
       "3     3.956897  8.473842\n",
       "4     3.987841  8.543198\n",
       "5     3.992413  8.512712"
      ]
     },
     "execution_count": 28,
     "metadata": {},
     "output_type": "execute_result"
    }
   ],
   "source": [
    "monthly_profit['days']=days\n",
    "monthly_df = pd.DataFrame.from_dict(monthly_profit).set_index('days')\n",
    "dfs['monthly'] = monthly_df\n",
    "monthly_df.head()"
   ]
  },
  {
   "cell_type": "markdown",
   "metadata": {},
   "source": [
    "**Weekly**"
   ]
  },
  {
   "cell_type": "code",
   "execution_count": 29,
   "metadata": {},
   "outputs": [
    {
     "name": "stdout",
     "output_type": "stream",
     "text": [
      "Calculating profit for coin Bitcoin...\n",
      "Calculating profit for coin Ethereum...\n"
     ]
    }
   ],
   "source": [
    "days= []\n",
    "weekly_profit = {}\n",
    "for i in range(0,7):\n",
    "    days.append(i)\n",
    "\n",
    "for coin in coins:\n",
    "    df = prepare_data(coin)\n",
    "    weekly_profit[coin] = []\n",
    "    print(f\"Calculating profit for coin {coin}...\")\n",
    "    for i in range(0,7):    \n",
    "        weekly_profit[coin].append(calculate_profit_dca(df, 'weekly', purchase_day_of_week=i).iloc[0])"
   ]
  },
  {
   "cell_type": "code",
   "execution_count": 30,
   "metadata": {},
   "outputs": [
    {
     "data": {
      "text/html": [
       "<div>\n",
       "<style scoped>\n",
       "    .dataframe tbody tr th:only-of-type {\n",
       "        vertical-align: middle;\n",
       "    }\n",
       "\n",
       "    .dataframe tbody tr th {\n",
       "        vertical-align: top;\n",
       "    }\n",
       "\n",
       "    .dataframe thead th {\n",
       "        text-align: right;\n",
       "    }\n",
       "</style>\n",
       "<table border=\"1\" class=\"dataframe\">\n",
       "  <thead>\n",
       "    <tr style=\"text-align: right;\">\n",
       "      <th></th>\n",
       "      <th>Bitcoin</th>\n",
       "      <th>Ethereum</th>\n",
       "    </tr>\n",
       "    <tr>\n",
       "      <th>days</th>\n",
       "      <th></th>\n",
       "      <th></th>\n",
       "    </tr>\n",
       "  </thead>\n",
       "  <tbody>\n",
       "    <tr>\n",
       "      <th>0</th>\n",
       "      <td>4.049776</td>\n",
       "      <td>8.685145</td>\n",
       "    </tr>\n",
       "    <tr>\n",
       "      <th>1</th>\n",
       "      <td>4.055809</td>\n",
       "      <td>8.732725</td>\n",
       "    </tr>\n",
       "    <tr>\n",
       "      <th>2</th>\n",
       "      <td>4.061459</td>\n",
       "      <td>8.746297</td>\n",
       "    </tr>\n",
       "    <tr>\n",
       "      <th>3</th>\n",
       "      <td>4.059354</td>\n",
       "      <td>8.754766</td>\n",
       "    </tr>\n",
       "    <tr>\n",
       "      <th>4</th>\n",
       "      <td>4.087846</td>\n",
       "      <td>8.822309</td>\n",
       "    </tr>\n",
       "  </tbody>\n",
       "</table>\n",
       "</div>"
      ],
      "text/plain": [
       "       Bitcoin  Ethereum\n",
       "days                    \n",
       "0     4.049776  8.685145\n",
       "1     4.055809  8.732725\n",
       "2     4.061459  8.746297\n",
       "3     4.059354  8.754766\n",
       "4     4.087846  8.822309"
      ]
     },
     "execution_count": 30,
     "metadata": {},
     "output_type": "execute_result"
    }
   ],
   "source": [
    "weekly_profit['days']=days\n",
    "weekly_df = pd.DataFrame.from_dict(weekly_profit).set_index('days')\n",
    "dfs['weekly'] = weekly_df\n",
    "weekly_df.head()"
   ]
  },
  {
   "cell_type": "markdown",
   "metadata": {},
   "source": [
    "**Twice a month**"
   ]
  },
  {
   "cell_type": "code",
   "execution_count": 31,
   "metadata": {},
   "outputs": [
    {
     "name": "stdout",
     "output_type": "stream",
     "text": [
      "Calculating profit for coin Bitcoin...\n",
      "Calculating profit for coin Ethereum...\n"
     ]
    }
   ],
   "source": [
    "days= []\n",
    "twice_a_month_profit = {}\n",
    "for i in range(1,32):\n",
    "    for j in range(i+1,32):\n",
    "        days.append(f\"{i}-{j}\")\n",
    "\n",
    "for coin in coins:\n",
    "    df = prepare_data(coin)\n",
    "    twice_a_month_profit[coin] = []\n",
    "    print(f\"Calculating profit for coin {coin}...\")\n",
    "    for i in range(1,32):\n",
    "        for j in range(i+1,32):    \n",
    "            twice_a_month_profit[coin].append(calculate_profit_dca(df, 'monthly', purchase_day_of_month=[i,j]).iloc[0])"
   ]
  },
  {
   "cell_type": "code",
   "execution_count": 32,
   "metadata": {},
   "outputs": [
    {
     "data": {
      "text/html": [
       "<div>\n",
       "<style scoped>\n",
       "    .dataframe tbody tr th:only-of-type {\n",
       "        vertical-align: middle;\n",
       "    }\n",
       "\n",
       "    .dataframe tbody tr th {\n",
       "        vertical-align: top;\n",
       "    }\n",
       "\n",
       "    .dataframe thead th {\n",
       "        text-align: right;\n",
       "    }\n",
       "</style>\n",
       "<table border=\"1\" class=\"dataframe\">\n",
       "  <thead>\n",
       "    <tr style=\"text-align: right;\">\n",
       "      <th></th>\n",
       "      <th>Bitcoin</th>\n",
       "      <th>Ethereum</th>\n",
       "    </tr>\n",
       "    <tr>\n",
       "      <th>days</th>\n",
       "      <th></th>\n",
       "      <th></th>\n",
       "    </tr>\n",
       "  </thead>\n",
       "  <tbody>\n",
       "    <tr>\n",
       "      <th>1-2</th>\n",
       "      <td>4.017805</td>\n",
       "      <td>8.596112</td>\n",
       "    </tr>\n",
       "    <tr>\n",
       "      <th>1-3</th>\n",
       "      <td>4.000149</td>\n",
       "      <td>8.572026</td>\n",
       "    </tr>\n",
       "    <tr>\n",
       "      <th>1-4</th>\n",
       "      <td>4.015621</td>\n",
       "      <td>8.606704</td>\n",
       "    </tr>\n",
       "    <tr>\n",
       "      <th>1-5</th>\n",
       "      <td>4.017907</td>\n",
       "      <td>8.591461</td>\n",
       "    </tr>\n",
       "    <tr>\n",
       "      <th>1-6</th>\n",
       "      <td>4.013217</td>\n",
       "      <td>8.564750</td>\n",
       "    </tr>\n",
       "  </tbody>\n",
       "</table>\n",
       "</div>"
      ],
      "text/plain": [
       "       Bitcoin  Ethereum\n",
       "days                    \n",
       "1-2   4.017805  8.596112\n",
       "1-3   4.000149  8.572026\n",
       "1-4   4.015621  8.606704\n",
       "1-5   4.017907  8.591461\n",
       "1-6   4.013217  8.564750"
      ]
     },
     "execution_count": 32,
     "metadata": {},
     "output_type": "execute_result"
    }
   ],
   "source": [
    "twice_a_month_profit['days']=days\n",
    "twice_a_month_df = pd.DataFrame.from_dict(twice_a_month_profit).set_index('days')\n",
    "dfs['twice_a_month'] = twice_a_month_df\n",
    "twice_a_month_df.head()"
   ]
  },
  {
   "cell_type": "code",
   "execution_count": 33,
   "metadata": {},
   "outputs": [],
   "source": [
    "coin_describe_values = {}\n",
    "for coin in coins:\n",
    "    describe_values = {}\n",
    "    for index, df in dfs.items():\n",
    "        describe_values[index] = df.describe()[coin].values\n",
    "    coin_describe_values[coin] = describe_values"
   ]
  },
  {
   "cell_type": "code",
   "execution_count": 34,
   "metadata": {},
   "outputs": [],
   "source": [
    "coin_describe_dfs = {}\n",
    "for coin in coins:\n",
    "    coin_describe_dfs[coin] = pd.DataFrame\\\n",
    "                              .from_dict(coin_describe_values[coin], orient='index', columns=df.describe().index)"
   ]
  },
  {
   "cell_type": "code",
   "execution_count": 35,
   "metadata": {},
   "outputs": [
    {
     "data": {
      "text/html": [
       "<div>\n",
       "<style scoped>\n",
       "    .dataframe tbody tr th:only-of-type {\n",
       "        vertical-align: middle;\n",
       "    }\n",
       "\n",
       "    .dataframe tbody tr th {\n",
       "        vertical-align: top;\n",
       "    }\n",
       "\n",
       "    .dataframe thead th {\n",
       "        text-align: right;\n",
       "    }\n",
       "</style>\n",
       "<table border=\"1\" class=\"dataframe\">\n",
       "  <thead>\n",
       "    <tr style=\"text-align: right;\">\n",
       "      <th></th>\n",
       "      <th>monthly</th>\n",
       "      <th>weekly</th>\n",
       "      <th>twice_a_month</th>\n",
       "    </tr>\n",
       "  </thead>\n",
       "  <tbody>\n",
       "    <tr>\n",
       "      <th>count</th>\n",
       "      <td>31.000000</td>\n",
       "      <td>7.000000</td>\n",
       "      <td>465.000000</td>\n",
       "    </tr>\n",
       "    <tr>\n",
       "      <th>mean</th>\n",
       "      <td>4.068759</td>\n",
       "      <td>4.067256</td>\n",
       "      <td>4.067810</td>\n",
       "    </tr>\n",
       "    <tr>\n",
       "      <th>std</th>\n",
       "      <td>0.054852</td>\n",
       "      <td>0.014194</td>\n",
       "      <td>0.037295</td>\n",
       "    </tr>\n",
       "    <tr>\n",
       "      <th>min</th>\n",
       "      <td>3.956897</td>\n",
       "      <td>4.049776</td>\n",
       "      <td>3.969964</td>\n",
       "    </tr>\n",
       "    <tr>\n",
       "      <th>25%</th>\n",
       "      <td>4.041394</td>\n",
       "      <td>4.057582</td>\n",
       "      <td>4.044567</td>\n",
       "    </tr>\n",
       "    <tr>\n",
       "      <th>50%</th>\n",
       "      <td>4.060084</td>\n",
       "      <td>4.061459</td>\n",
       "      <td>4.068969</td>\n",
       "    </tr>\n",
       "    <tr>\n",
       "      <th>75%</th>\n",
       "      <td>4.108346</td>\n",
       "      <td>4.078274</td>\n",
       "      <td>4.093880</td>\n",
       "    </tr>\n",
       "    <tr>\n",
       "      <th>max</th>\n",
       "      <td>4.159624</td>\n",
       "      <td>4.087846</td>\n",
       "      <td>4.153271</td>\n",
       "    </tr>\n",
       "  </tbody>\n",
       "</table>\n",
       "</div>"
      ],
      "text/plain": [
       "         monthly    weekly  twice_a_month\n",
       "count  31.000000  7.000000     465.000000\n",
       "mean    4.068759  4.067256       4.067810\n",
       "std     0.054852  0.014194       0.037295\n",
       "min     3.956897  4.049776       3.969964\n",
       "25%     4.041394  4.057582       4.044567\n",
       "50%     4.060084  4.061459       4.068969\n",
       "75%     4.108346  4.078274       4.093880\n",
       "max     4.159624  4.087846       4.153271"
      ]
     },
     "execution_count": 35,
     "metadata": {},
     "output_type": "execute_result"
    }
   ],
   "source": [
    "coin_describe_dfs['Bitcoin'].transpose()"
   ]
  },
  {
   "cell_type": "code",
   "execution_count": 36,
   "metadata": {},
   "outputs": [
    {
     "data": {
      "text/html": [
       "<div>\n",
       "<style scoped>\n",
       "    .dataframe tbody tr th:only-of-type {\n",
       "        vertical-align: middle;\n",
       "    }\n",
       "\n",
       "    .dataframe tbody tr th {\n",
       "        vertical-align: top;\n",
       "    }\n",
       "\n",
       "    .dataframe thead th {\n",
       "        text-align: right;\n",
       "    }\n",
       "</style>\n",
       "<table border=\"1\" class=\"dataframe\">\n",
       "  <thead>\n",
       "    <tr style=\"text-align: right;\">\n",
       "      <th></th>\n",
       "      <th>monthly</th>\n",
       "      <th>weekly</th>\n",
       "      <th>twice_a_month</th>\n",
       "    </tr>\n",
       "  </thead>\n",
       "  <tbody>\n",
       "    <tr>\n",
       "      <th>count</th>\n",
       "      <td>31.000000</td>\n",
       "      <td>7.000000</td>\n",
       "      <td>465.000000</td>\n",
       "    </tr>\n",
       "    <tr>\n",
       "      <th>mean</th>\n",
       "      <td>8.759797</td>\n",
       "      <td>8.752661</td>\n",
       "      <td>8.755408</td>\n",
       "    </tr>\n",
       "    <tr>\n",
       "      <th>std</th>\n",
       "      <td>0.172773</td>\n",
       "      <td>0.042145</td>\n",
       "      <td>0.115264</td>\n",
       "    </tr>\n",
       "    <tr>\n",
       "      <th>min</th>\n",
       "      <td>8.459290</td>\n",
       "      <td>8.685145</td>\n",
       "      <td>8.466566</td>\n",
       "    </tr>\n",
       "    <tr>\n",
       "      <th>25%</th>\n",
       "      <td>8.634049</td>\n",
       "      <td>8.739511</td>\n",
       "      <td>8.675913</td>\n",
       "    </tr>\n",
       "    <tr>\n",
       "      <th>50%</th>\n",
       "      <td>8.765556</td>\n",
       "      <td>8.746926</td>\n",
       "      <td>8.759827</td>\n",
       "    </tr>\n",
       "    <tr>\n",
       "      <th>75%</th>\n",
       "      <td>8.896741</td>\n",
       "      <td>8.767613</td>\n",
       "      <td>8.835661</td>\n",
       "    </tr>\n",
       "    <tr>\n",
       "      <th>max</th>\n",
       "      <td>9.123020</td>\n",
       "      <td>8.822309</td>\n",
       "      <td>9.052571</td>\n",
       "    </tr>\n",
       "  </tbody>\n",
       "</table>\n",
       "</div>"
      ],
      "text/plain": [
       "         monthly    weekly  twice_a_month\n",
       "count  31.000000  7.000000     465.000000\n",
       "mean    8.759797  8.752661       8.755408\n",
       "std     0.172773  0.042145       0.115264\n",
       "min     8.459290  8.685145       8.466566\n",
       "25%     8.634049  8.739511       8.675913\n",
       "50%     8.765556  8.746926       8.759827\n",
       "75%     8.896741  8.767613       8.835661\n",
       "max     9.123020  8.822309       9.052571"
      ]
     },
     "execution_count": 36,
     "metadata": {},
     "output_type": "execute_result"
    }
   ],
   "source": [
    "coin_describe_dfs['Ethereum'].transpose()"
   ]
  },
  {
   "cell_type": "markdown",
   "metadata": {},
   "source": [
    "* The montly DCA has provided the highest profits, but presents also the lowest profits. Indeed its standard deviation is the highest\n",
    "* The weekly approach has provided more stable profits, regardless of the day picked for investing, but presents a lower maximum profits compared to the other approaches\n",
    "* In general it seems that the higher the frequency of the DCA, the less influent the day on which the investment is made and the more stable profits. The lower the frequency, the higher the maximum possible profits, but also higher standard deviation and the risk of obtaining lower profits if not picking the right day to invest\n",
    "\n",
    "We conclude that the best approach for those aiming at maximising the profit should use a monthly approach. As long as the right day in the month is picked to invest, since the risk is to lower the profit if the wrong day is picked. A following analysis will try to identify the best day of month to invest for a specific coin.\n",
    "For a more stable profit, weekly seems to provide more constant profits, regardless of the days on which the investment is made."
   ]
  },
  {
   "cell_type": "code",
   "execution_count": null,
   "metadata": {},
   "outputs": [],
   "source": []
  }
 ],
 "metadata": {
  "kernelspec": {
   "display_name": "Python 3",
   "language": "python",
   "name": "python3"
  },
  "language_info": {
   "codemirror_mode": {
    "name": "ipython",
    "version": 3
   },
   "file_extension": ".py",
   "mimetype": "text/x-python",
   "name": "python",
   "nbconvert_exporter": "python",
   "pygments_lexer": "ipython3",
   "version": "3.8.2"
  }
 },
 "nbformat": 4,
 "nbformat_minor": 4
}
