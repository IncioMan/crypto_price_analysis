{
 "cells": [
  {
   "cell_type": "code",
   "execution_count": 73,
   "metadata": {},
   "outputs": [],
   "source": [
    "import pandas as pd\n",
    "import matplotlib.pyplot as plt"
   ]
  },
  {
   "cell_type": "code",
   "execution_count": 74,
   "metadata": {},
   "outputs": [],
   "source": [
    "plt.rcParams[\"figure.figsize\"] = (15, 5)"
   ]
  },
  {
   "cell_type": "markdown",
   "metadata": {},
   "source": [
    "**Import and prepare data**\n",
    "\n",
    "Add extra columns"
   ]
  },
  {
   "cell_type": "code",
   "execution_count": 75,
   "metadata": {},
   "outputs": [],
   "source": [
    "def prepare_data(coin):\n",
    "    df = pd.read_csv(f'../data/coin_{coin}.csv', index_col=0).reset_index()\n",
    "    df.Date = pd.to_datetime(df.Date)\n",
    "    df['dayofweek'] = df.Date.dt.dayofweek\n",
    "    df['dayofmonth'] = df.Date.dt.day\n",
    "    df['year_month'] = df.Date.dt.strftime(\"%Y-%m\")\n",
    "    df['avg_daily_price']= (df.High + df.Low) / 2\n",
    "    return df"
   ]
  },
  {
   "cell_type": "markdown",
   "metadata": {},
   "source": [
    "**Calculate profit**\n",
    "\n",
    "Given the provided dataframe for a specific coin, and the configuration for the frequency of the DCA plan, calculate the profit in percantage accumulated over the specified time window."
   ]
  },
  {
   "cell_type": "code",
   "execution_count": 76,
   "metadata": {},
   "outputs": [],
   "source": [
    "def calculate_profit_dca(df, frequency, purchase_year_month = '2018-01',\\\n",
    "                        purchase_day_of_week = 0, purchase_day_of_month = [0]):\n",
    "    purchase_usd = 10\n",
    "    if frequency == 'monthly':\n",
    "        freq_cond = (df.dayofmonth.isin(purchase_day_of_month))\n",
    "        if(31 in purchase_day_of_month):\n",
    "            # Take last day of months with 30 days\n",
    "            freq_cond = freq_cond | (df.Date.dt.month.isin([11,4,6,9]) & (df.dayofmonth == 30))\n",
    "        if((31 in purchase_day_of_month) or (30 in purchase_day_of_month)):\n",
    "            # Take last day of February (29th in case of leap year)\n",
    "            freq_cond = freq_cond |\\\n",
    "                        (df.Date.dt.year.isin([2008, 2012, 2016, 2020, 2024, 2028, 2032, 2036, 2040, 2044]) &\\\n",
    "                         df.Date.dt.month.isin([2]) & (df.dayofmonth == 29))\n",
    "        if((31 in purchase_day_of_month) or (30 in purchase_day_of_month) or (29 in purchase_day_of_month)):     \n",
    "            # In case 29 is the day, use 28 for February in non leap year\n",
    "            freq_cond = freq_cond |\\\n",
    "                        ((~df.Date.dt.year.isin([2008, 2012, 2016, 2020, 2024, 2028, 2032, 2036, 2040, 2044])) &\\\n",
    "                         df.Date.dt.month.isin([2]) & (df.dayofmonth == 28))          \n",
    "    if frequency == 'weekly':\n",
    "        freq_cond = (df.dayofweek == purchase_day_of_week)\n",
    "\n",
    "    purchase = df[(df.year_month >= purchase_year_month) & freq_cond]\n",
    "    purchased_amount = (purchase_usd/purchase.High).sum()\n",
    "    investment_amount = purchase_usd * len(purchase)\n",
    "    investment_value = df[-1:].High * purchased_amount\n",
    "    return (investment_value / investment_amount)"
   ]
  },
  {
   "cell_type": "markdown",
   "metadata": {},
   "source": [
    "The considered coins"
   ]
  },
  {
   "cell_type": "code",
   "execution_count": 77,
   "metadata": {},
   "outputs": [],
   "source": [
    "coins = ['Ethereum', 'Cardano', 'Polkadot']\n",
    "coin = coins[0]"
   ]
  },
  {
   "cell_type": "markdown",
   "metadata": {},
   "source": [
    "Calculate profits for each combination of days of the month, given a biweekly DCA"
   ]
  },
  {
   "cell_type": "code",
   "execution_count": 78,
   "metadata": {},
   "outputs": [
    {
     "name": "stdout",
     "output_type": "stream",
     "text": [
      "Calculating profit for coin Ethereum. Sample size 2160...\n",
      "Calculating profit for coin Cardano. Sample size 1374...\n",
      "Calculating profit for coin Polkadot. Sample size 320...\n"
     ]
    }
   ],
   "source": [
    "days_of_month_profit = {'day': []}\n",
    "for i in range(0,32):\n",
    "    for j in range(i+1,32):\n",
    "        days_of_month_profit['day'].append(f\"{i}-{j}\")\n",
    "\n",
    "for coin in coins:\n",
    "    df = prepare_data(coin)\n",
    "    days_of_month_profit[coin] = []\n",
    "    print(f\"Calculating profit for coin {coin}. Sample size {len(df)}...\")\n",
    "    for i in range(0,32):   \n",
    "        for j in range(i+1,32):\n",
    "            days_of_month_profit[coin].append(calculate_profit_dca(df, 'monthly', purchase_day_of_month=[i,j]).iloc[0])"
   ]
  },
  {
   "cell_type": "code",
   "execution_count": 79,
   "metadata": {},
   "outputs": [],
   "source": [
    "profit_df = pd.DataFrame(days_of_month_profit).set_index('day')"
   ]
  },
  {
   "cell_type": "markdown",
   "metadata": {},
   "source": [
    "Define weights for each coin, to adjust its impact on the identification of the most profitable combination of days"
   ]
  },
  {
   "cell_type": "code",
   "execution_count": 92,
   "metadata": {},
   "outputs": [],
   "source": [
    "coin_weights = {'Ethereum': 70, 'Cardano':20, 'Polkadot':20}\n",
    "def weightedValue(row):\n",
    "    val = 0\n",
    "    for coin, weight in coin_weights.items():\n",
    "        val = val + row[coin] * weight\n",
    "    return val"
   ]
  },
  {
   "cell_type": "markdown",
   "metadata": {},
   "source": [
    "Use ranks to order the best combinations and sum them according to the weights"
   ]
  },
  {
   "cell_type": "code",
   "execution_count": 93,
   "metadata": {},
   "outputs": [],
   "source": [
    "profit_df['best_profit_scores'] = profit_df.rank().transpose()\\\n",
    "         .apply(weightedValue)"
   ]
  },
  {
   "cell_type": "code",
   "execution_count": 94,
   "metadata": {},
   "outputs": [
    {
     "data": {
      "text/plain": [
       "<AxesSubplot:xlabel='invesment_days', ylabel='z-score profit'>"
      ]
     },
     "execution_count": 94,
     "metadata": {},
     "output_type": "execute_result"
    },
    {
     "data": {
      "image/png": "[encoded data removed]",
      "text/plain": [
       "<Figure size 1080x360 with 1 Axes>"
      ]
     },
     "metadata": {
      "needs_background": "light"
     },
     "output_type": "display_data"
    }
   ],
   "source": [
    "tmp_df = profit_df.sort_values(by='best_profit_scores',ascending=False).head(10)\\\n",
    "         .drop(columns='best_profit_scores')\n",
    "plt = ((tmp_df - tmp_df.mean())/tmp_df.std()).plot(kind='bar', ylabel='z-score profit', xlabel='invesment_days')\n",
    "plt.get_figure().savefig(\"../images/portfolio_twice_a_month.jpeg\", bbox_inches = 'tight',\n",
    "    pad_inches = 0.2)\n",
    "plt"
   ]
  },
  {
   "cell_type": "markdown",
   "metadata": {},
   "source": [
    "The results suggest that for the coins in question, the best combination of days is 0-26. However it is interesting to observe that the top 10 combinations include 3 dates ranges:\n",
    "* The first day of the month\n",
    "* The middle of the month, with the 13th and 14th days\n",
    "* Close to the end of the month, with the 27th and 28th days\n",
    "\n",
    "This suggests that half way through the month and right before the end are a good spot to buy, even twice. Otherwise it is better to distantiate the purchases by more than two weeks, either starting at the beginning and buying right before the end, or buying in the middle and before the end."
   ]
  },
  {
   "cell_type": "code",
   "execution_count": 95,
   "metadata": {},
   "outputs": [
    {
     "data": {
      "text/plain": [
       "'0-26'"
      ]
     },
     "execution_count": 95,
     "metadata": {},
     "output_type": "execute_result"
    }
   ],
   "source": [
    "profit_df['best_profit_scores'].idxmax()"
   ]
  },
  {
   "cell_type": "markdown",
   "metadata": {},
   "source": [
    "The pair that maximises the profits is 0-26 (first day of the month and the 27th)."
   ]
  }
 ],
 "metadata": {
  "kernelspec": {
   "display_name": "Python 3",
   "language": "python",
   "name": "python3"
  },
  "language_info": {
   "codemirror_mode": {
    "name": "ipython",
    "version": 3
   },
   "file_extension": ".py",
   "mimetype": "text/x-python",
   "name": "python",
   "nbconvert_exporter": "python",
   "pygments_lexer": "ipython3",
   "version": "3.8.2"
  }
 },
 "nbformat": 4,
 "nbformat_minor": 4
}
