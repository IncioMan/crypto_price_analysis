{
 "cells": [
  {
   "cell_type": "code",
   "execution_count": 1,
   "metadata": {},
   "outputs": [],
   "source": [
    "import pandas as pd\n",
    "import matplotlib.pyplot as plt"
   ]
  },
  {
   "cell_type": "code",
   "execution_count": 2,
   "metadata": {},
   "outputs": [],
   "source": [
    "plt.rcParams[\"figure.figsize\"] = (15, 5)"
   ]
  },
  {
   "cell_type": "markdown",
   "metadata": {},
   "source": [
    "**Import and prepare data**\n",
    "\n",
    "Add extra columns"
   ]
  },
  {
   "cell_type": "code",
   "execution_count": 3,
   "metadata": {},
   "outputs": [],
   "source": [
    "def prepare_data(coin):\n",
    "    df = pd.read_csv(f'../data/coin_{coin}.csv', index_col=0).reset_index()\n",
    "    df.Date = pd.to_datetime(df.Date)\n",
    "    df['dayofweek'] = df.Date.dt.dayofweek\n",
    "    df['dayofmonth'] = df.Date.dt.day\n",
    "    df['year_month'] = df.Date.dt.strftime(\"%Y-%m\")\n",
    "    df['avg_daily_price']= (df.High + df.Low) / 2\n",
    "    return df"
   ]
  },
  {
   "cell_type": "markdown",
   "metadata": {},
   "source": [
    "**Calculate profit**\n",
    "\n",
    "Given the provided dataframe for a specific coin, and the configuration for the frequency of the DCA plan, calculate the profit in percantage accumulated over the specified time window."
   ]
  },
  {
   "cell_type": "code",
   "execution_count": 4,
   "metadata": {},
   "outputs": [],
   "source": [
    "def calculate_profit_dca(df, frequency, purchase_year_month = '2018-01',\\\n",
    "                        purchase_day_of_week = 0, purchase_day_of_month = [0]):\n",
    "    purchase_usd = 10\n",
    "    if frequency == 'monthly':\n",
    "        freq_cond = (df.dayofmonth.isin(purchase_day_of_month))\n",
    "        if(31 in purchase_day_of_month):\n",
    "            # Take last day of months with 30 days\n",
    "            freq_cond = freq_cond | (df.Date.dt.month.isin([11,4,6,9]) & (df.dayofmonth == 30))\n",
    "        if((31 in purchase_day_of_month) or (30 in purchase_day_of_month)):\n",
    "            # Take last day of February (29th in case of leap year)\n",
    "            freq_cond = freq_cond |\\\n",
    "                        (df.Date.dt.year.isin([2008, 2012, 2016, 2020, 2024, 2028, 2032, 2036, 2040, 2044]) &\\\n",
    "                         df.Date.dt.month.isin([2]) & (df.dayofmonth == 29))\n",
    "        if((31 in purchase_day_of_month) or (30 in purchase_day_of_month) or (29 in purchase_day_of_month)):     \n",
    "            # In case 29 is the day, use 28 for February in non leap year\n",
    "            freq_cond = freq_cond |\\\n",
    "                        ((~df.Date.dt.year.isin([2008, 2012, 2016, 2020, 2024, 2028, 2032, 2036, 2040, 2044])) &\\\n",
    "                         df.Date.dt.month.isin([2]) & (df.dayofmonth == 28))          \n",
    "    if frequency == 'weekly':\n",
    "        freq_cond = (df.dayofweek == purchase_day_of_week)\n",
    "\n",
    "    purchase = df[(df.year_month >= purchase_year_month) & freq_cond]\n",
    "    purchased_amount = (purchase_usd/purchase.High).sum()\n",
    "    investment_amount = purchase_usd * len(purchase)\n",
    "    investment_value = df[-1:].High * purchased_amount\n",
    "    return (investment_value / investment_amount)*100"
   ]
  },
  {
   "cell_type": "markdown",
   "metadata": {},
   "source": [
    "The considered coins"
   ]
  },
  {
   "cell_type": "code",
   "execution_count": 5,
   "metadata": {},
   "outputs": [],
   "source": [
    "coins = ['Cardano']"
   ]
  },
  {
   "cell_type": "markdown",
   "metadata": {},
   "source": [
    "Calculate profits for each combination of days of the month, given a biweekly DCA"
   ]
  },
  {
   "cell_type": "code",
   "execution_count": 6,
   "metadata": {},
   "outputs": [
    {
     "name": "stdout",
     "output_type": "stream",
     "text": [
      "Calculating profit for coin Cardano. Sample size 1374...\n"
     ]
    }
   ],
   "source": [
    "days_of_month_profit = {'day': []}\n",
    "for i in range(0,32):\n",
    "    for j in range(i+1,32):\n",
    "        days_of_month_profit['day'].append(f\"{i}-{j}\")\n",
    "\n",
    "for coin in coins:\n",
    "    df = prepare_data(coin)\n",
    "    days_of_month_profit[coin] = []\n",
    "    print(f\"Calculating profit for coin {coin}. Sample size {len(df)}...\")\n",
    "    for i in range(0,32):   \n",
    "        for j in range(i+1,32):\n",
    "            days_of_month_profit[coin].append(calculate_profit_dca(df, 'monthly', purchase_day_of_month=[i,j]).iloc[0])"
   ]
  },
  {
   "cell_type": "code",
   "execution_count": 7,
   "metadata": {},
   "outputs": [],
   "source": [
    "profit_df = pd.DataFrame(days_of_month_profit).set_index('day')"
   ]
  },
  {
   "cell_type": "markdown",
   "metadata": {},
   "source": [
    "Let's plot the values"
   ]
  },
  {
   "cell_type": "code",
   "execution_count": 8,
   "metadata": {},
   "outputs": [
    {
     "data": {
      "text/html": [
       "<div>\n",
       "<style scoped>\n",
       "    .dataframe tbody tr th:only-of-type {\n",
       "        vertical-align: middle;\n",
       "    }\n",
       "\n",
       "    .dataframe tbody tr th {\n",
       "        vertical-align: top;\n",
       "    }\n",
       "\n",
       "    .dataframe thead th {\n",
       "        text-align: right;\n",
       "    }\n",
       "</style>\n",
       "<table border=\"1\" class=\"dataframe\">\n",
       "  <thead>\n",
       "    <tr style=\"text-align: right;\">\n",
       "      <th></th>\n",
       "      <th>Cardano</th>\n",
       "    </tr>\n",
       "    <tr>\n",
       "      <th>day</th>\n",
       "      <th></th>\n",
       "    </tr>\n",
       "  </thead>\n",
       "  <tbody>\n",
       "    <tr>\n",
       "      <th>0-1</th>\n",
       "      <td>1759.412402</td>\n",
       "    </tr>\n",
       "    <tr>\n",
       "      <th>0-2</th>\n",
       "      <td>1740.518078</td>\n",
       "    </tr>\n",
       "    <tr>\n",
       "      <th>0-3</th>\n",
       "      <td>1735.931227</td>\n",
       "    </tr>\n",
       "    <tr>\n",
       "      <th>0-4</th>\n",
       "      <td>1745.717398</td>\n",
       "    </tr>\n",
       "    <tr>\n",
       "      <th>0-5</th>\n",
       "      <td>1748.234499</td>\n",
       "    </tr>\n",
       "  </tbody>\n",
       "</table>\n",
       "</div>"
      ],
      "text/plain": [
       "         Cardano\n",
       "day             \n",
       "0-1  1759.412402\n",
       "0-2  1740.518078\n",
       "0-3  1735.931227\n",
       "0-4  1745.717398\n",
       "0-5  1748.234499"
      ]
     },
     "execution_count": 8,
     "metadata": {},
     "output_type": "execute_result"
    }
   ],
   "source": [
    "profit_df.head()"
   ]
  },
  {
   "cell_type": "code",
   "execution_count": 9,
   "metadata": {},
   "outputs": [
    {
     "data": {
      "text/plain": [
       "<AxesSubplot:xlabel='day'>"
      ]
     },
     "execution_count": 9,
     "metadata": {},
     "output_type": "execute_result"
    },
    {
     "data": {
      "image/png": "[encoded data removed]",
      "text/plain": [
       "<Figure size 1080x360 with 1 Axes>"
      ]
     },
     "metadata": {
      "needs_background": "light"
     },
     "output_type": "display_data"
    }
   ],
   "source": [
    "((profit_df[coin] - profit_df[coin].mean())/profit_df[coin].std())\\\n",
    "        .sort_values(ascending=False).head(10).plot(kind='bar')"
   ]
  },
  {
   "cell_type": "markdown",
   "metadata": {},
   "source": [
    "The plot suggests that for the coin in question, the best combination of days is 0-16. However it is interesting to observe that the top 10 combinations can be grouped in 3 categories:\n",
    "* Buying in the middle and at the end/beginning\n",
    "* Buying both times in the middle\n",
    "\n",
    "This suggests that half way through the month is a good spot to buy, even twice. Otherwise it is better to distantiate the purchases of two weeks, either starting at the beginning or the middle."
   ]
  },
  {
   "cell_type": "code",
   "execution_count": 10,
   "metadata": {},
   "outputs": [
    {
     "data": {
      "text/plain": [
       "'0-16'"
      ]
     },
     "execution_count": 10,
     "metadata": {},
     "output_type": "execute_result"
    }
   ],
   "source": [
    "profit_df[coin].idxmax()"
   ]
  },
  {
   "cell_type": "markdown",
   "metadata": {},
   "source": [
    "The pair that maximises the profits is 0-16 (first day of the month and the 17th)."
   ]
  }
 ],
 "metadata": {
  "kernelspec": {
   "display_name": "Python 3",
   "language": "python",
   "name": "python3"
  },
  "language_info": {
   "codemirror_mode": {
    "name": "ipython",
    "version": 3
   },
   "file_extension": ".py",
   "mimetype": "text/x-python",
   "name": "python",
   "nbconvert_exporter": "python",
   "pygments_lexer": "ipython3",
   "version": "3.8.2"
  }
 },
 "nbformat": 4,
 "nbformat_minor": 4
}
